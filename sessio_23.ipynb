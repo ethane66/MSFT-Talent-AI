{
  "nbformat": 4,
  "nbformat_minor": 0,
  "metadata": {
    "colab": {
      "provenance": [],
      "gpuType": "T4",
      "authorship_tag": "ABX9TyMv7D6N2So+FS00l/N4bMTj",
      "include_colab_link": true
    },
    "kernelspec": {
      "name": "python3",
      "display_name": "Python 3"
    },
    "language_info": {
      "name": "python"
    },
    "accelerator": "GPU"
  },
  "cells": [
    {
      "cell_type": "markdown",
      "metadata": {
        "id": "view-in-github",
        "colab_type": "text"
      },
      "source": [
        "<a href=\"https://colab.research.google.com/github/ethane66/MSFT-Talent-AI/blob/main/sessio_23.ipynb\" target=\"_parent\"><img src=\"https://colab.research.google.com/assets/colab-badge.svg\" alt=\"Open In Colab\"/></a>"
      ]
    },
    {
      "cell_type": "code",
      "execution_count": 1,
      "metadata": {
        "colab": {
          "base_uri": "https://localhost:8080/"
        },
        "id": "5zRqG0s4d88Z",
        "outputId": "dab1b8a3-9af4-44bd-f8f3-746e0e127795"
      },
      "outputs": [
        {
          "output_type": "stream",
          "name": "stdout",
          "text": [
            "Requirement already satisfied: numpy==1.23.5 in /usr/local/lib/python3.11/dist-packages (1.23.5)\n",
            "Collecting scikit-surprise\n",
            "  Downloading scikit_surprise-1.1.4.tar.gz (154 kB)\n",
            "\u001b[2K     \u001b[90m━━━━━━━━━━━━━━━━━━━━━━━━━━━━━━━━━━━━━━━━\u001b[0m \u001b[32m154.4/154.4 kB\u001b[0m \u001b[31m7.2 MB/s\u001b[0m eta \u001b[36m0:00:00\u001b[0m\n",
            "\u001b[?25h  Installing build dependencies ... \u001b[?25l\u001b[?25hdone\n",
            "  Getting requirements to build wheel ... \u001b[?25l\u001b[?25hdone\n",
            "  Preparing metadata (pyproject.toml) ... \u001b[?25l\u001b[?25hdone\n",
            "Requirement already satisfied: joblib>=1.2.0 in /usr/local/lib/python3.11/dist-packages (from scikit-surprise) (1.4.2)\n",
            "Requirement already satisfied: numpy>=1.19.5 in /usr/local/lib/python3.11/dist-packages (from scikit-surprise) (1.23.5)\n",
            "Requirement already satisfied: scipy>=1.6.0 in /usr/local/lib/python3.11/dist-packages (from scikit-surprise) (1.14.1)\n",
            "Building wheels for collected packages: scikit-surprise\n",
            "  Building wheel for scikit-surprise (pyproject.toml) ... \u001b[?25l\u001b[?25hdone\n",
            "  Created wheel for scikit-surprise: filename=scikit_surprise-1.1.4-cp311-cp311-linux_x86_64.whl size=2505213 sha256=f9b9638db704949203002f869f47ab5b3ccaca2f7249142adc57aadf853975f8\n",
            "  Stored in directory: /tmp/pip-ephem-wheel-cache-24rimogq/wheels/2a/8f/6e/7e2899163e2d85d8266daab4aa1cdabec7a6c56f83c015b5af\n",
            "Successfully built scikit-surprise\n",
            "Installing collected packages: scikit-surprise\n",
            "Successfully installed scikit-surprise-1.1.4\n",
            "Requirement already satisfied: scikit-surprise in /usr/local/lib/python3.11/dist-packages (1.1.4)\n",
            "Requirement already satisfied: joblib>=1.2.0 in /usr/local/lib/python3.11/dist-packages (from scikit-surprise) (1.4.2)\n",
            "Requirement already satisfied: numpy>=1.19.5 in /usr/local/lib/python3.11/dist-packages (from scikit-surprise) (1.23.5)\n",
            "Requirement already satisfied: scipy>=1.6.0 in /usr/local/lib/python3.11/dist-packages (from scikit-surprise) (1.14.1)\n",
            "Dataset ml-100k could not be found. Do you want to download it? [Y/n] y\n",
            "Trying to download dataset from https://files.grouplens.org/datasets/movielens/ml-100k.zip...\n",
            "Done! Dataset ml-100k has been saved to /root/.surprise_data/ml-100k\n",
            "RMSE: 0.9362\n",
            "RMSE: 0.936204124991202\n",
            "Predicción para el ítem 1118: 3.51\n",
            "Predicción para el ítem 428: 3.81\n",
            "Predicción para el ítem 257: 3.86\n",
            "Predicción para el ítem 269: 4.15\n",
            "Predicción para el ítem 108: 3.27\n"
          ]
        }
      ],
      "source": [
        "# Parte 1: Preparación del entorno\n",
        "# Ejecutar en Google Colab\n",
        "!pip install numpy==1.23.5\n",
        "!pip install --no-cache-dir scikit-surprise\n",
        "!pip install scikit-surprise\n",
        "\n",
        "# Parte 2: Cargar el dataset MovieLens\n",
        "from surprise import Dataset\n",
        "from surprise.model_selection import train_test_split\n",
        "from surprise import Reader\n",
        "\n",
        "# Cargar el dataset de ejemplo\n",
        "data = Dataset.load_builtin('ml-100k')\n",
        "trainset, testset = train_test_split(data, test_size=0.25)\n",
        "\n",
        "# Parte 3: Entrenar un modelo de filtrado colaborativo\n",
        "from surprise import SVD\n",
        "from surprise import accuracy\n",
        "\n",
        "model = SVD()\n",
        "model.fit(trainset)\n",
        "\n",
        "predictions = model.test(testset)\n",
        "\n",
        "# Evaluar\n",
        "rmse = accuracy.rmse(predictions)\n",
        "print(f\"RMSE: {rmse}\")\n",
        "\n",
        "# Parte 4: Generar recomendaciones para un usuario\n",
        "user_id = str(196)  # elegir uno del dataset\n",
        "item_ids = [iid for (uid, iid, _) in testset if uid == user_id]\n",
        "\n",
        "for item in item_ids[:5]:\n",
        "    pred = model.predict(user_id, item)\n",
        "    print(f\"Predicción para el ítem {item}: {pred.est:.2f}\")\n",
        "\n",
        "# Desafío práctico: Elegir un usuario diferente, generar predicciones y ordenarlas por estimación\n"
      ]
    }
  ]
}