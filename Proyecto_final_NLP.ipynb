{
  "nbformat": 4,
  "nbformat_minor": 0,
  "metadata": {
    "colab": {
      "provenance": [],
      "authorship_tag": "ABX9TyM0O+DSxk6VQgsF9DiFo+rq",
      "include_colab_link": true
    },
    "kernelspec": {
      "name": "python3",
      "display_name": "Python 3"
    },
    "language_info": {
      "name": "python"
    }
  },
  "cells": [
    {
      "cell_type": "markdown",
      "metadata": {
        "id": "view-in-github",
        "colab_type": "text"
      },
      "source": [
        "<a href=\"https://colab.research.google.com/github/ethane66/MSFT-Talent-AI/blob/main/Proyecto_final_NLP.ipynb\" target=\"_parent\"><img src=\"https://colab.research.google.com/assets/colab-badge.svg\" alt=\"Open In Colab\"/></a>"
      ]
    },
    {
      "cell_type": "markdown",
      "source": [],
      "metadata": {
        "id": "5_6-r7JKTQNK"
      }
    },
    {
      "cell_type": "code",
      "execution_count": null,
      "metadata": {
        "id": "UhkLPP8sTMl9"
      },
      "outputs": [],
      "source": [
        "# 📦 Instalar librerías necesarias\n",
        "!pip install textblob wordcloud matplotlib\n",
        "\n",
        "# 📚 Importar librerías\n",
        "from textblob import TextBlob\n",
        "from wordcloud import WordCloud\n",
        "import matplotlib.pyplot as plt\n",
        "\n",
        "# 📝 Aquí van tus reseñas (puedes reemplazar el texto entre comillas por tus propias reseñas)\n",
        "reseñas = [\n",
        "    \"Los profesores son excelentes y el ambiente es muy bueno.\",\n",
        "    \"No me gustó la organización del curso, fue un poco caótico.\",\n",
        "    \"Las instalaciones están muy limpias y modernas.\",\n",
        "    \"Los horarios no se respetaban y eso fue molesto.\",\n",
        "    \"Gran atención por parte del personal.\",\n",
        "    \"El curso estuvo bien, pero podría ser más práctico.\",\n",
        "    \"Demasiado desorden, no volvería a tomar clases ahí.\",\n",
        "    \"Todo estuvo perfecto, aprendí mucho y me sentí acompañado.\",\n",
        "    \"Algunos profesores no se preparaban bien para la clase.\",\n",
        "    \"La experiencia fue muy positiva en general.\"\n",
        "]\n",
        "\n",
        "# 🔍 Análisis de sentimiento con TextBlob\n",
        "print(\"🔎 Análisis de sentimiento:\")\n",
        "for i, reseña in enumerate(reseñas):\n",
        "    blob = TextBlob(reseña)\n",
        "    sentimiento = blob.sentiment.polarity\n",
        "    clasificacion = \"Positiva\" if sentimiento > 0 else \"Negativa\" if sentimiento < 0 else \"Neutral\"\n",
        "    print(f\"{i+1}. {clasificacion} ({sentimiento:.2f}): {reseña}\")\n",
        "\n",
        "# ☁️ Generar una nube de palabras\n",
        "todo_el_texto = \" \".join(reseñas)\n",
        "wordcloud = WordCloud(width=800, height=400, background_color='white', colormap='viridis').generate(todo_el_texto)\n",
        "\n",
        "# 🎨 Mostrar la nube de palabras\n",
        "plt.figure(figsize=(10, 5))\n",
        "plt.imshow(wordcloud, interpolation='bilinear')\n",
        "plt.axis(\"off\")\n",
        "plt.title(\"Nube de palabras de reseñas\")\n",
        "plt.show()\n"
      ]
    }
  ]
}